{
 "cells": [
  {
   "cell_type": "code",
   "execution_count": 3,
   "metadata": {},
   "outputs": [
    {
     "data": {
      "text/plain": [
       "2. Daylight                            6714\n",
       "5. Darkness - Road Not Lighted         1468\n",
       "4. Darkness - Road Lighted             1262\n",
       "3. Dusk                                 299\n",
       "1. Dawn                                 254\n",
       "6. Darkness - Unknown Road Lighting      23\n",
       "7. Unknown                               19\n",
       "Name: Light_Condition, dtype: int64"
      ]
     },
     "execution_count": 3,
     "metadata": {},
     "output_type": "execute_result"
    }
   ],
   "source": [
    "# PART I: BIG PICTURE\n",
    "import os\n",
    "import numpy as np\n",
    "import matplotlib\n",
    "import matplotlib.pyplot as plt\n",
    "import pandas as pd\n",
    "from sklearn.model_selection import train_test_split\n",
    "from pandas.plotting import scatter_matrix # optional\n",
    "from sklearn.preprocessing import Imputer\n",
    "from sklearn.impute import SimpleImputer\n",
    "from sklearn.preprocessing import LabelEncoder\n",
    "from sklearn.preprocessing import OneHotEncoder\n",
    "from sklearn.pipeline import Pipeline\n",
    "from sklearn.preprocessing import StandardScaler\n",
    "from sklearn.svm import LinearSVC\n",
    "\n",
    "\n",
    "crashes= pd.read_csv(\"va_crashes.csv\")\n",
    "X= crashes.drop(\"Crash_Dsc\", axis= 1)\n",
    "\n",
    "#how many accidents fall under the type of crash\n",
    "crashes[\"Driver_Action_Type_Cd\"].value_counts()\n",
    "\n",
    "#how many accidents fall under each category of light conditions\n",
    "crashes[\"Light_Condition\"].value_counts()\n",
    "\n",
    "\n",
    "\n",
    "\n",
    "\n",
    "    \n",
    " \n"
   ]
  },
  {
   "cell_type": "code",
   "execution_count": null,
   "metadata": {},
   "outputs": [],
   "source": []
  }
 ],
 "metadata": {
  "kernelspec": {
   "display_name": "Python 3",
   "language": "python",
   "name": "python3"
  },
  "language_info": {
   "codemirror_mode": {
    "name": "ipython",
    "version": 3
   },
   "file_extension": ".py",
   "mimetype": "text/x-python",
   "name": "python",
   "nbconvert_exporter": "python",
   "pygments_lexer": "ipython3",
   "version": "3.7.0"
  }
 },
 "nbformat": 4,
 "nbformat_minor": 2
}
