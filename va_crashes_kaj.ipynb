{
 "cells": [
  {
   "cell_type": "code",
   "execution_count": null,
   "metadata": {},
   "outputs": [],
   "source": []
  },
  {
   "cell_type": "code",
   "execution_count": 134,
   "metadata": {},
   "outputs": [],
   "source": [
    "# PART I: BIG PICTURE\n",
    "import os\n",
    "import numpy as np\n",
    "import matplotlib\n",
    "import matplotlib.pyplot as plt\n",
    "import pandas as pd\n",
    "from sklearn.model_selection import train_test_split\n",
    "from pandas.plotting import scatter_matrix # optional\n",
    "from sklearn.preprocessing import Imputer\n",
    "from sklearn.impute import SimpleImputer\n",
    "from sklearn.preprocessing import LabelEncoder\n",
    "from sklearn.preprocessing import OneHotEncoder\n",
    "from sklearn.pipeline import Pipeline\n",
    "from sklearn.preprocessing import StandardScaler\n",
    "from sklearn.svm import LinearSVC\n",
    "\n",
    "np.random.seed(42) \n",
    "\n",
    "\n",
    "crashes1= pd.read_csv(\"va_crashes.csv\")\n",
    "\n",
    "\n",
    "\n",
    "\n",
    "\n",
    "#add an injuries column\n",
    "def injury1(x):\n",
    "    if x == 'K' or x =='A' or x == 'B' or x == 'C':\n",
    "        return 1\n",
    "    else:\n",
    "        return 0\n",
    "    \n",
    "    \n",
    "    \n",
    "crashes1['injury'] = crashes1['Crash_Severity'].apply(injury1)\n",
    "\n",
    "\n",
    "#print(crashes.loc[crashes['injury'] == 1, ['Crash_Severity']])\n",
    "\n",
    "#Data Cleaning \n",
    "y= crashes1.injury\n",
    "X_everything= crashes1.drop('injury', axis=1)\n",
    "\n",
    "\n",
    "\n",
    "\n",
    "crashes = X_everything.drop(['OBJECTID','A_Crash','A_People','B_Crash','Driverinjurytype','Pdo_Crash','B_People','X', 'Y', 'Crash_Dsc', 'Crash_Dt','Crash_Military_Tm','C_Crash','C_People','Crash_Severity','District_C', 'Fatal_Crashes', 'Document_Nbr', 'Pedestrians_Killed','Juris_Code', 'Local_Case_Cd','Mpo_Name','Passage','Passgen','Pedgen','Passinjurytype','Rns_Mp','Pedage','Pedinjurytype','Rte_Nm','Vehiclenumber'], axis=1)\n",
    "\n",
    "#X_train, X_test, y_train, y_test = train_test_split(crashes,y, test_size=int(len(crashes1)*0.20))\n",
    "\n",
    "#Def drop columns that we do not want\n",
    "\n",
    "\n",
    "#Features we want that are categorial variables \n",
    "coll_type = crashes[['Collision_Type']]\n",
    "light_con = crashes[['Light_Condition']]\n",
    "roadway = crashes[['Roadway_Surface_Cond']]\n",
    "weather = crashes[['Weather_Condition']]\n",
    "age = crashes[['Driverage']]\n",
    "gender = crashes[['Drivergen']]\n",
    "reason = crashes[['Driver_Action_Type_Cd']]\n",
    "place = crashes[['Plan_Dist_Name']]\n",
    "vehicle_type = crashes[['Vehicle_Body_Type_Cd']]\n",
    "juris_name = crashes[['Juris_Name']]\n",
    "responders = crashes[['Vsp_1']]\n",
    "\n",
    "\n",
    "\n",
    "temp = crashes\n",
    "temp = temp.drop('Collision_Type', axis=1)\n",
    "temp = temp.drop('Light_Condition', axis=1)\n",
    "temp = temp.drop('Roadway_Surface_Cond', axis=1)\n",
    "temp = temp.drop('Driverage', axis=1)\n",
    "temp = temp.drop('Drivergen', axis = 1)\n",
    "temp = temp.drop('Driver_Action_Type_Cd', axis = 1)\n",
    "temp = temp.drop('Plan_Dist_Name', axis = 1)\n",
    "temp = temp.drop('Vehicle_Body_Type_Cd', axis = 1)\n",
    "temp = temp.drop('Juris_Name', axis = 1)\n",
    "temp = temp.drop('Vsp_1', axis = 1)\n",
    "X = temp.drop('Weather_Condition', axis=1)\n",
    "\n"
   ]
  },
  {
   "cell_type": "code",
   "execution_count": 135,
   "metadata": {},
   "outputs": [
    {
     "data": {
      "text/html": [
       "<div>\n",
       "<style scoped>\n",
       "    .dataframe tbody tr th:only-of-type {\n",
       "        vertical-align: middle;\n",
       "    }\n",
       "\n",
       "    .dataframe tbody tr th {\n",
       "        vertical-align: top;\n",
       "    }\n",
       "\n",
       "    .dataframe thead th {\n",
       "        text-align: right;\n",
       "    }\n",
       "</style>\n",
       "<table border=\"1\" class=\"dataframe\">\n",
       "  <thead>\n",
       "    <tr style=\"text-align: right;\">\n",
       "      <th></th>\n",
       "      <th>Collision_Type</th>\n",
       "      <th>Crash_Year</th>\n",
       "      <th>Driverage</th>\n",
       "      <th>Drivergen</th>\n",
       "      <th>Driver_Action_Type_Cd</th>\n",
       "      <th>Gps_Latitude_Nbr</th>\n",
       "      <th>Gps_Longitude_Nbr</th>\n",
       "      <th>Juris_Name</th>\n",
       "      <th>Light_Condition</th>\n",
       "      <th>Plan_Dist_Name</th>\n",
       "      <th>Roadway_Surface_Cond</th>\n",
       "      <th>Vehicle_Body_Type_Cd</th>\n",
       "      <th>Vsp_1</th>\n",
       "      <th>Weather_Condition</th>\n",
       "    </tr>\n",
       "  </thead>\n",
       "  <tbody>\n",
       "    <tr>\n",
       "      <th>0</th>\n",
       "      <td>1. Rear End</td>\n",
       "      <td>2016</td>\n",
       "      <td>18,19</td>\n",
       "      <td>Male,Male</td>\n",
       "      <td>12. Following Too Close,1. No Improper Action</td>\n",
       "      <td>-79.060080</td>\n",
       "      <td>37.392420</td>\n",
       "      <td>Campbell</td>\n",
       "      <td>5. Darkness - Road Not Lighted</td>\n",
       "      <td>Region 2000</td>\n",
       "      <td>2. Wet</td>\n",
       "      <td>2. Truck - Pick-up/Passenger Truck,1. Passenge...</td>\n",
       "      <td>3</td>\n",
       "      <td>4. Mist</td>\n",
       "    </tr>\n",
       "    <tr>\n",
       "      <th>1</th>\n",
       "      <td>2. Angle</td>\n",
       "      <td>2017</td>\n",
       "      <td>32,51,33</td>\n",
       "      <td>Female,Male,Male</td>\n",
       "      <td>11. Did Not Have Right-of-Way,1. No Improper A...</td>\n",
       "      <td>-76.159620</td>\n",
       "      <td>36.837310</td>\n",
       "      <td>Virginia Beach</td>\n",
       "      <td>4. Darkness - Road Lighted</td>\n",
       "      <td>Hampton Roads</td>\n",
       "      <td>2. Wet</td>\n",
       "      <td>1. Passenger car,1. Passenger car,1. Passenger...</td>\n",
       "      <td>5</td>\n",
       "      <td>4. Mist</td>\n",
       "    </tr>\n",
       "    <tr>\n",
       "      <th>2</th>\n",
       "      <td>9. Fixed Object - Off Road</td>\n",
       "      <td>2013</td>\n",
       "      <td>16</td>\n",
       "      <td>Male</td>\n",
       "      <td>23. Driver Distraction</td>\n",
       "      <td>-77.387501</td>\n",
       "      <td>38.982137</td>\n",
       "      <td>Herndon</td>\n",
       "      <td>2. Daylight</td>\n",
       "      <td>Northern Virginia</td>\n",
       "      <td>1. Dry</td>\n",
       "      <td>22. Truck - Sport Utility Vehicle (SUV)</td>\n",
       "      <td>7</td>\n",
       "      <td>1. No Adverse Condition (Clear/Cloudy)</td>\n",
       "    </tr>\n",
       "    <tr>\n",
       "      <th>3</th>\n",
       "      <td>9. Fixed Object - Off Road</td>\n",
       "      <td>2017</td>\n",
       "      <td>49</td>\n",
       "      <td>Male</td>\n",
       "      <td>9. Other Improper Passing</td>\n",
       "      <td>-77.757740</td>\n",
       "      <td>37.692890</td>\n",
       "      <td>Goochland</td>\n",
       "      <td>2. Daylight</td>\n",
       "      <td>Richmond Regional</td>\n",
       "      <td>1. Dry</td>\n",
       "      <td>1. Passenger car</td>\n",
       "      <td>1</td>\n",
       "      <td>1. No Adverse Condition (Clear/Cloudy)</td>\n",
       "    </tr>\n",
       "    <tr>\n",
       "      <th>4</th>\n",
       "      <td>1. Rear End</td>\n",
       "      <td>2014</td>\n",
       "      <td>18,21</td>\n",
       "      <td>Male,Female</td>\n",
       "      <td>12. Following Too Close,1. No Improper Action</td>\n",
       "      <td>-76.194990</td>\n",
       "      <td>36.814570</td>\n",
       "      <td>Virginia Beach</td>\n",
       "      <td>2. Daylight</td>\n",
       "      <td>Hampton Roads</td>\n",
       "      <td>1. Dry</td>\n",
       "      <td>1. Passenger car,1. Passenger car</td>\n",
       "      <td>5</td>\n",
       "      <td>1. No Adverse Condition (Clear/Cloudy)</td>\n",
       "    </tr>\n",
       "  </tbody>\n",
       "</table>\n",
       "</div>"
      ],
      "text/plain": [
       "               Collision_Type  Crash_Year Driverage         Drivergen  \\\n",
       "0                 1. Rear End        2016     18,19         Male,Male   \n",
       "1                    2. Angle        2017  32,51,33  Female,Male,Male   \n",
       "2  9. Fixed Object - Off Road        2013        16              Male   \n",
       "3  9. Fixed Object - Off Road        2017        49              Male   \n",
       "4                 1. Rear End        2014     18,21       Male,Female   \n",
       "\n",
       "                               Driver_Action_Type_Cd  Gps_Latitude_Nbr  \\\n",
       "0      12. Following Too Close,1. No Improper Action        -79.060080   \n",
       "1  11. Did Not Have Right-of-Way,1. No Improper A...        -76.159620   \n",
       "2                             23. Driver Distraction        -77.387501   \n",
       "3                          9. Other Improper Passing        -77.757740   \n",
       "4      12. Following Too Close,1. No Improper Action        -76.194990   \n",
       "\n",
       "   Gps_Longitude_Nbr      Juris_Name                 Light_Condition  \\\n",
       "0          37.392420        Campbell  5. Darkness - Road Not Lighted   \n",
       "1          36.837310  Virginia Beach      4. Darkness - Road Lighted   \n",
       "2          38.982137         Herndon                     2. Daylight   \n",
       "3          37.692890       Goochland                     2. Daylight   \n",
       "4          36.814570  Virginia Beach                     2. Daylight   \n",
       "\n",
       "      Plan_Dist_Name Roadway_Surface_Cond  \\\n",
       "0        Region 2000               2. Wet   \n",
       "1      Hampton Roads               2. Wet   \n",
       "2  Northern Virginia               1. Dry   \n",
       "3  Richmond Regional               1. Dry   \n",
       "4      Hampton Roads               1. Dry   \n",
       "\n",
       "                                Vehicle_Body_Type_Cd  Vsp_1  \\\n",
       "0  2. Truck - Pick-up/Passenger Truck,1. Passenge...      3   \n",
       "1  1. Passenger car,1. Passenger car,1. Passenger...      5   \n",
       "2            22. Truck - Sport Utility Vehicle (SUV)      7   \n",
       "3                                   1. Passenger car      1   \n",
       "4                  1. Passenger car,1. Passenger car      5   \n",
       "\n",
       "                        Weather_Condition  \n",
       "0                                 4. Mist  \n",
       "1                                 4. Mist  \n",
       "2  1. No Adverse Condition (Clear/Cloudy)  \n",
       "3  1. No Adverse Condition (Clear/Cloudy)  \n",
       "4  1. No Adverse Condition (Clear/Cloudy)  "
      ]
     },
     "execution_count": 135,
     "metadata": {},
     "output_type": "execute_result"
    }
   ],
   "source": [
    "crashes.head()"
   ]
  },
  {
   "cell_type": "code",
   "execution_count": 136,
   "metadata": {},
   "outputs": [
    {
     "data": {
      "text/plain": [
       "Collision_Type             0\n",
       "Crash_Year                 0\n",
       "Driverage                183\n",
       "Drivergen                  0\n",
       "Driver_Action_Type_Cd      0\n",
       "Gps_Latitude_Nbr           6\n",
       "Gps_Longitude_Nbr          6\n",
       "Juris_Name                 0\n",
       "Light_Condition            0\n",
       "Plan_Dist_Name             0\n",
       "Roadway_Surface_Cond       0\n",
       "Vehicle_Body_Type_Cd       0\n",
       "Vsp_1                      0\n",
       "Weather_Condition          0\n",
       "dtype: int64"
      ]
     },
     "execution_count": 136,
     "metadata": {},
     "output_type": "execute_result"
    }
   ],
   "source": [
    "np.sum(crashes.isnull())\n"
   ]
  },
  {
   "cell_type": "code",
   "execution_count": 137,
   "metadata": {},
   "outputs": [
    {
     "name": "stderr",
     "output_type": "stream",
     "text": [
      "/Users/Kajal217/anaconda3/lib/python3.7/site-packages/sklearn/utils/deprecation.py:58: DeprecationWarning: Class Imputer is deprecated; Imputer was deprecated in version 0.20 and will be removed in 0.22. Import impute.SimpleImputer from sklearn instead.\n",
      "  warnings.warn(msg, category=DeprecationWarning)\n",
      "/Users/Kajal217/anaconda3/lib/python3.7/site-packages/sklearn/utils/deprecation.py:58: DeprecationWarning: Class Imputer is deprecated; Imputer was deprecated in version 0.20 and will be removed in 0.22. Import impute.SimpleImputer from sklearn instead.\n",
      "  warnings.warn(msg, category=DeprecationWarning)\n",
      "/Users/Kajal217/anaconda3/lib/python3.7/site-packages/sklearn/preprocessing/_encoders.py:368: FutureWarning: The handling of integer data will change in version 0.22. Currently, the categories are determined based on the range [0, max(values)], while in the future they will be determined based on the unique values.\n",
      "If you want the future behaviour and silence this warning, you can specify \"categories='auto'\".\n",
      "In case you used a LabelEncoder before this OneHotEncoder to convert the categories to integers, then you can now use the OneHotEncoder directly.\n",
      "  warnings.warn(msg, FutureWarning)\n"
     ]
    }
   ],
   "source": [
    "##Applying the pipelienes on the data\n",
    "from sklearn.compose import ColumnTransformer\n",
    "from sklearn.pipeline import Pipeline\n",
    "from sklearn.preprocessing import StandardScaler, OneHotEncoder\n",
    "\n",
    "\n",
    "\n",
    "#regular pipeline for quantative data \n",
    "num_pipeline = Pipeline([\n",
    "    ('imputer', Imputer(strategy=\"median\")),\n",
    "    ('std_scaler', StandardScaler()),\n",
    "])\n",
    "\n",
    "\n",
    "\n",
    "\n",
    "coll_name =['Collision_Type']\n",
    "light_name = ['Light_Condition']\n",
    "roadway_name = ['Roadway_Surface_Cond']\n",
    "weather_name = ['Weather_Condition']\n",
    "#age_name = ['Driverage']\n",
    "gender_name = ['Drivergen']\n",
    "reason_name = ['Driver_Action_Type_Cd']\n",
    "place_name = ['Plan_Dist_Name']\n",
    "veh_type = ['Vehicle_Body_Type_Cd']\n",
    "j_name = ['Juris_Name']\n",
    "vsp = ['Vsp_1']\n",
    "\n",
    "\n",
    "num_attribs = list(X) #list of numerical only values which is crash\n",
    "full_pipeline = ColumnTransformer([\n",
    "    ('num', num_pipeline, num_attribs),\n",
    "    ('collision', OneHotEncoder(), coll_name),\n",
    "    ('light', OneHotEncoder(), light_name),\n",
    "    ('roadway_condition', OneHotEncoder(), roadway_name),\n",
    "    ('weather', OneHotEncoder(), weather_name),\n",
    "    #('driver_age', OneHotEncoder(), age_name), #had NaN values so idk how to hot encode and deal with that\n",
    "    ('driver_gender', OneHotEncoder(), gender_name),\n",
    "    ('reason', OneHotEncoder(), reason_name),\n",
    "    ('location', OneHotEncoder(), place_name),\n",
    "    ('vehicle_type', OneHotEncoder(), veh_type),\n",
    "    ('jurisdiction_name', OneHotEncoder(), j_name),\n",
    "    ('vsp', OneHotEncoder(), vsp),\n",
    "    \n",
    "    \n",
    "])\n",
    "\n",
    "\n",
    "\n",
    "\n",
    "crashes_prepared = full_pipeline.fit_transform(crashes)\n",
    "crashes_prepared.shape\n",
    "\n",
    "X_train, X_test, y_train, y_test = train_test_split(crashes_prepared,y, test_size=int(len(crashes1)*0.20))\n",
    "\n",
    "#X_train = full_pipeline.fit_transform(X_train) #cleaned scaled data\n",
    "#X_test = test_full_pipeline.fit_transform(X_test)"
   ]
  },
  {
   "cell_type": "code",
   "execution_count": null,
   "metadata": {},
   "outputs": [],
   "source": []
  },
  {
   "cell_type": "code",
   "execution_count": null,
   "metadata": {},
   "outputs": [],
   "source": []
  },
  {
   "cell_type": "code",
   "execution_count": 141,
   "metadata": {},
   "outputs": [
    {
     "name": "stdout",
     "output_type": "stream",
     "text": [
      "Linear Regression RMSE 0.4122836666564108\n",
      "tree 0.0\n"
     ]
    },
    {
     "name": "stderr",
     "output_type": "stream",
     "text": [
      "/Users/Kajal217/anaconda3/lib/python3.7/site-packages/sklearn/ensemble/forest.py:246: FutureWarning: The default value of n_estimators will change from 10 in version 0.20 to 100 in 0.22.\n",
      "  \"10 in version 0.20 to 100 in 0.22.\", FutureWarning)\n"
     ]
    },
    {
     "name": "stdout",
     "output_type": "stream",
     "text": [
      "Random Forest RMSE 0.2035173769218819\n"
     ]
    }
   ],
   "source": [
    "#Linear Regression\n",
    "\n",
    "from sklearn.metrics import mean_squared_error\n",
    "\n",
    "from sklearn.linear_model import LinearRegression\n",
    "lin_reg = LinearRegression()\n",
    "lin_reg.fit(X_train, y_train)\n",
    "\n",
    "\n",
    "crash_predictions = lin_reg.predict(X_train)\n",
    "lin_mse = mean_squared_error(y_train, crash_predictions)\n",
    "lin_rmse = np.sqrt(lin_mse)\n",
    "print(\"Linear Regression RMSE\" , lin_rmse)\n",
    "\n",
    "\n",
    "#This is not a bad indicator because typical injury results range from 0 to 1, there being a fatal injury, to there being no fatal injury,\n",
    "#so a 0.43 means that a \n",
    "\n",
    "\n",
    "\n",
    "\n",
    "from sklearn.tree import DecisionTreeRegressor\n",
    "tree_reg = DecisionTreeRegressor()\n",
    "tree_reg.fit(X_train, y_train)\n",
    "crash_predictions2 = tree_reg.predict(X_train)\n",
    "tree_mse = mean_squared_error(y_train, crash_predictions2)\n",
    "tree_rmse = np.sqrt(tree_mse)\n",
    "print('tree' , tree_rmse) #Since we got 0 this means the model has badly overfit the data\n",
    "\n",
    "\n",
    "\n",
    "from sklearn.ensemble import RandomForestRegressor\n",
    "forest_reg = RandomForestRegressor()\n",
    "forest_reg.fit(X_train, y_train) \n",
    "crash_predictions3 = forest_reg.predict(X_train)\n",
    "forest_mse = mean_squared_error(y_train, crash_predictions3)\n",
    "forest_rmse = np.sqrt(forest_mse)\n",
    "print('Random Forest RMSE' , forest_rmse)\n",
    "\n",
    "\n"
   ]
  },
  {
   "cell_type": "code",
   "execution_count": null,
   "metadata": {},
   "outputs": [],
   "source": []
  },
  {
   "cell_type": "code",
   "execution_count": 162,
   "metadata": {},
   "outputs": [
    {
     "name": "stderr",
     "output_type": "stream",
     "text": [
      "/Users/Kajal217/anaconda3/lib/python3.7/site-packages/sklearn/linear_model/logistic.py:433: FutureWarning: Default solver will be changed to 'lbfgs' in 0.22. Specify a solver to silence this warning.\n",
      "  FutureWarning)\n",
      "/Users/Kajal217/anaconda3/lib/python3.7/site-packages/sklearn/ensemble/forest.py:246: FutureWarning: The default value of n_estimators will change from 10 in version 0.20 to 100 in 0.22.\n",
      "  \"10 in version 0.20 to 100 in 0.22.\", FutureWarning)\n",
      "/Users/Kajal217/anaconda3/lib/python3.7/site-packages/sklearn/svm/base.py:196: FutureWarning: The default value of gamma will change from 'auto' to 'scale' in version 0.22 to account better for unscaled features. Set gamma explicitly to 'auto' or 'scale' to avoid this warning.\n",
      "  \"avoid this warning.\", FutureWarning)\n"
     ]
    },
    {
     "name": "stdout",
     "output_type": "stream",
     "text": [
      "  (0, 0)\t-0.899995284112756\n",
      "  (0, 1)\t0.5780972768609143\n",
      "  (0, 2)\t0.5296944766128389\n",
      "  (0, 17)\t1.0\n",
      "  (0, 19)\t1.0\n",
      "  (0, 28)\t1.0\n",
      "  (0, 41)\t1.0\n",
      "  (0, 45)\t1.0\n",
      "  (0, 457)\t1.0\n",
      "  (0, 564)\t1.0\n",
      "  (0, 574)\t1.0\n",
      "  (0, 1179)\t1.0\n",
      "  (0, 1187)\t1.0\n",
      "  (1, 0)\t-0.899995284112756\n",
      "  (1, 1)\t-1.5021842107012193\n",
      "  (1, 2)\t-0.5677787793359059\n",
      "  (1, 3)\t1.0\n",
      "  (1, 19)\t1.0\n",
      "  (1, 25)\t1.0\n",
      "  (1, 36)\t1.0\n",
      "  (1, 46)\t1.0\n",
      "  (1, 234)\t1.0\n",
      "  (1, 570)\t1.0\n",
      "  (1, 575)\t1.0\n",
      "  (1, 1137)\t1.0\n",
      "  :\t:\n",
      "  (8030, 1)\t0.445944718462234\n",
      "  (8030, 2)\t-0.3155263173841328\n",
      "  (8030, 10)\t1.0\n",
      "  (8030, 22)\t1.0\n",
      "  (8030, 25)\t1.0\n",
      "  (8030, 36)\t1.0\n",
      "  (8030, 59)\t1.0\n",
      "  (8030, 458)\t1.0\n",
      "  (8030, 569)\t1.0\n",
      "  (8030, 630)\t1.0\n",
      "  (8030, 1105)\t1.0\n",
      "  (8030, 1187)\t1.0\n",
      "  (8031, 0)\t-0.3071829583330623\n",
      "  (8031, 1)\t0.33120581508822394\n",
      "  (8031, 2)\t-0.3009288035249251\n",
      "  (8031, 3)\t1.0\n",
      "  (8031, 19)\t1.0\n",
      "  (8031, 25)\t1.0\n",
      "  (8031, 36)\t1.0\n",
      "  (8031, 59)\t1.0\n",
      "  (8031, 234)\t1.0\n",
      "  (8031, 569)\t1.0\n",
      "  (8031, 775)\t1.0\n",
      "  (8031, 1064)\t1.0\n",
      "  (8031, 1187)\t1.0\n",
      "here\n",
      "  (0, 0)\t0.2856293674466313\n",
      "  (0, 1)\t1.184791267564545\n",
      "  (0, 2)\t-1.1415476694239168\n",
      "  (0, 13)\t1.0\n",
      "  (0, 19)\t1.0\n",
      "  (0, 25)\t1.0\n",
      "  (0, 36)\t1.0\n",
      "  (0, 79)\t1.0\n",
      "  (0, 344)\t1.0\n",
      "  (0, 559)\t1.0\n",
      "  (0, 575)\t1.0\n",
      "  (0, 1168)\t1.0\n",
      "  (0, 1191)\t1.0\n",
      "  (1, 0)\t-0.3071829583330623\n",
      "  (1, 1)\t0.601901328501396\n",
      "  (1, 2)\t-0.7499013208911811\n",
      "  (1, 17)\t1.0\n",
      "  (1, 22)\t1.0\n",
      "  (1, 25)\t1.0\n",
      "  (1, 36)\t1.0\n",
      "  (1, 78)\t1.0\n",
      "  (1, 457)\t1.0\n",
      "  (1, 556)\t1.0\n",
      "  (1, 574)\t1.0\n",
      "  (1, 1158)\t1.0\n",
      "  :\t:\n",
      "  (2005, 1)\t-2.7960813472729744\n",
      "  (2005, 2)\t-1.2313471212069576\n",
      "  (2005, 17)\t1.0\n",
      "  (2005, 19)\t1.0\n",
      "  (2005, 28)\t1.0\n",
      "  (2005, 41)\t1.0\n",
      "  (2005, 78)\t1.0\n",
      "  (2005, 457)\t1.0\n",
      "  (2005, 562)\t1.0\n",
      "  (2005, 774)\t1.0\n",
      "  (2005, 1177)\t1.0\n",
      "  (2005, 1190)\t1.0\n",
      "  (2006, 0)\t-0.3071829583330623\n",
      "  (2006, 1)\t1.0704741725480096\n",
      "  (2006, 2)\t-1.1794517223600327\n",
      "  (2006, 8)\t1.0\n",
      "  (2006, 19)\t1.0\n",
      "  (2006, 25)\t1.0\n",
      "  (2006, 36)\t1.0\n",
      "  (2006, 46)\t1.0\n",
      "  (2006, 141)\t1.0\n",
      "  (2006, 559)\t1.0\n",
      "  (2006, 775)\t1.0\n",
      "  (2006, 1126)\t1.0\n",
      "  (2006, 1191)\t1.0\n"
     ]
    }
   ],
   "source": [
    "from sklearn.ensemble import RandomForestClassifier\n",
    "from sklearn.ensemble import VotingClassifier\n",
    "from sklearn.linear_model import LogisticRegression\n",
    "from sklearn.svm import SVC\n",
    "log_clf = LogisticRegression()\n",
    "rnd_clf = RandomForestClassifier()\n",
    "svm_clf = SVC()\n",
    "voting_clf = VotingClassifier(estimators=[('lr', log_clf), ('rf', rnd_clf), ('svc', svm_clf)],voting='hard')\n",
    "voting_clf.fit(X_train, y_train)\n",
    "print(X_train)\n",
    "print('here')\n",
    "print(X_test)\n",
    "\n"
   ]
  },
  {
   "cell_type": "code",
   "execution_count": 99,
   "metadata": {},
   "outputs": [
    {
     "name": "stdout",
     "output_type": "stream",
     "text": [
      "accuracy:  0.6880916791230692\n",
      "precision:  0.6505576208178439\n",
      "recall score: 0.24752475247524752\n",
      "f1_score: 0.35860655737704916\n"
     ]
    },
    {
     "name": "stderr",
     "output_type": "stream",
     "text": [
      "/Users/Kajal217/anaconda3/lib/python3.7/site-packages/sklearn/svm/base.py:922: ConvergenceWarning: Liblinear failed to converge, increase the number of iterations.\n",
      "  \"the number of iterations.\", ConvergenceWarning)\n"
     ]
    },
    {
     "data": {
      "text/plain": [
       "'\\naccuracy:  0.6661684105630294\\nprecision:  0.6241610738255033\\nrecall score: 0.13154172560113153\\nf1_score: 0.21728971962616822\\n\\n'"
      ]
     },
     "execution_count": 99,
     "metadata": {},
     "output_type": "execute_result"
    }
   ],
   "source": [
    "from sklearn.svm import LinearSVC\n",
    "from sklearn.metrics import confusion_matrix,f1_score, accuracy_score\n",
    "from sklearn.feature_extraction.text import TfidfVectorizer\n",
    "\n",
    "# Training your svm here\n",
    "svm_clf = LinearSVC(C=1, loss=\"hinge\", random_state=42)\n",
    "\n",
    "#y_train_1 = (y_train == 1)\n",
    "\n",
    "svm_clf.fit(X_train, y_train)\n",
    "#do fitting on training values \n",
    "\n",
    "\n",
    "\n",
    "# Testing your svm here\n",
    "from sklearn.metrics import precision_score, recall_score\n",
    "from sklearn.metrics import roc_curve\n",
    "\n",
    "\n",
    "y_pred = svm_clf.predict(X_test) #predicted y scores \n",
    "#predict on test values \n",
    "\n",
    "accuracy = accuracy_score(y_test,y_pred)\n",
    "print(\"accuracy: \", accuracy) # 0.0.9141304347826087\n",
    "\n",
    "precision_s = precision_score(y_test,y_pred) #how accurate your guesses from x_test are from model for actual y_test values\n",
    "print(\"precision: \", precision_s) #0.9405099150141643\n",
    "\n",
    "recall_s = recall_score(y_test,y_pred) \n",
    "print(\"recall score:\" , recall_s) #0.8512820512820513\n",
    "\n",
    "\n",
    "f1 = f1_score(y_test,y_pred)\n",
    "print(\"f1_score:\", f1)  #0.8936742934051144\n",
    "\n",
    "\n",
    "\n",
    "'''\n",
    "accuracy:  0.6661684105630294\n",
    "precision:  0.6241610738255033\n",
    "recall score: 0.13154172560113153\n",
    "f1_score: 0.21728971962616822\n",
    "\n",
    "'''\n",
    "\n",
    "\n",
    "\n"
   ]
  },
  {
   "cell_type": "code",
   "execution_count": 100,
   "metadata": {},
   "outputs": [
    {
     "data": {
      "text/plain": [
       "[]"
      ]
     },
     "execution_count": 100,
     "metadata": {},
     "output_type": "execute_result"
    },
    {
     "data": {
      "image/png": "[encoded data removed]",
      "text/plain": [
       "<Figure size 432x288 with 1 Axes>"
      ]
     },
     "metadata": {
      "needs_background": "light"
     },
     "output_type": "display_data"
    }
   ],
   "source": [
    "#roc  curve \n",
    "\n",
    "from sklearn.metrics import roc_curve\n",
    "import matplotlib.pyplot as plt \n",
    "\n",
    "scores = svm_clf.decision_function(X_test) #conversts X-test values to percentage values \n",
    "fpr, tpr, thresholds = roc_curve(y_test, scores)\n",
    "\n",
    "\n",
    "#function that plots roc curve \n",
    "def plot_roc_curve(fpr, tpr, label=None):\n",
    "    plt.plot(fpr, tpr, linewidth=2, label=label)\n",
    "    plt.plot([0, 1], [0, 1], 'k--')\n",
    "    plt.axis([0, 1, 0, 1])\n",
    "    plt.xlabel('False Positive Rate')\n",
    "    plt.ylabel('True Positive Rate')\n",
    "    plt.title('ROC Curve')\n",
    "    \n",
    "plot_roc_curve(fpr, tpr)\n",
    "plt.plot()"
   ]
  },
  {
   "cell_type": "code",
   "execution_count": 101,
   "metadata": {},
   "outputs": [
    {
     "data": {
      "text/plain": [
       "0.6331607006854533"
      ]
     },
     "execution_count": 101,
     "metadata": {},
     "output_type": "execute_result"
    }
   ],
   "source": [
    "from sklearn.metrics import roc_auc_score\n",
    "roc_auc_score(y_test, scores)"
   ]
  },
  {
   "cell_type": "code",
   "execution_count": 143,
   "metadata": {},
   "outputs": [
    {
     "name": "stderr",
     "output_type": "stream",
     "text": [
      "/Users/Kajal217/anaconda3/lib/python3.7/site-packages/sklearn/linear_model/logistic.py:433: FutureWarning: Default solver will be changed to 'lbfgs' in 0.22. Specify a solver to silence this warning.\n",
      "  FutureWarning)\n",
      "/Users/Kajal217/anaconda3/lib/python3.7/site-packages/sklearn/ensemble/forest.py:246: FutureWarning: The default value of n_estimators will change from 10 in version 0.20 to 100 in 0.22.\n",
      "  \"10 in version 0.20 to 100 in 0.22.\", FutureWarning)\n"
     ]
    },
    {
     "name": "stdout",
     "output_type": "stream",
     "text": [
      "LogisticRegression 0.6965620328849028\n",
      "RandomForestClassifier 0.6696562032884903\n"
     ]
    },
    {
     "name": "stderr",
     "output_type": "stream",
     "text": [
      "/Users/Kajal217/anaconda3/lib/python3.7/site-packages/sklearn/svm/base.py:196: FutureWarning: The default value of gamma will change from 'auto' to 'scale' in version 0.22 to account better for unscaled features. Set gamma explicitly to 'auto' or 'scale' to avoid this warning.\n",
      "  \"avoid this warning.\", FutureWarning)\n"
     ]
    },
    {
     "name": "stdout",
     "output_type": "stream",
     "text": [
      "SVC 0.6477329347284504\n"
     ]
    }
   ],
   "source": [
    "from sklearn.ensemble import RandomForestClassifier\n",
    "from sklearn.ensemble import VotingClassifier\n",
    "from sklearn.linear_model import LogisticRegression\n",
    "from sklearn.svm import SVC\n",
    "from sklearn.svm import LinearSVC\n",
    "from sklearn.metrics import confusion_matrix,f1_score, accuracy_score\n",
    "from sklearn.feature_extraction.text import TfidfVectorizer\n",
    "\n",
    "log_clf = LogisticRegression()\n",
    "rnd_clf = RandomForestClassifier()\n",
    "svm_clf = SVC()\n",
    "\n",
    "\n",
    "\n",
    "for clf in (log_clf, rnd_clf, svm_clf):\n",
    "    clf.fit(X_train, y_train)\n",
    "    y_pred= clf.predict(X_test)\n",
    "    print(clf.__class__.__name__, accuracy_score(y_test, y_pred))"
   ]
  },
  {
   "cell_type": "code",
   "execution_count": 156,
   "metadata": {},
   "outputs": [
    {
     "data": {
      "text/plain": [
       "<8032x1194 sparse matrix of type '<class 'numpy.float64'>'\n",
       "\twith 104416 stored elements in Compressed Sparse Row format>"
      ]
     },
     "execution_count": 156,
     "metadata": {},
     "output_type": "execute_result"
    }
   ],
   "source": [
    "from sklearn.cluster import KMeans\n",
    "\n",
    "kmeans= KMeans(n_clusters=2,random_state=0).fit(X_train)\n",
    "kmeans\n",
    "X_train"
   ]
  },
  {
   "cell_type": "code",
   "execution_count": 160,
   "metadata": {},
   "outputs": [
    {
     "name": "stdout",
     "output_type": "stream",
     "text": [
      "8032\n"
     ]
    },
    {
     "ename": "TypeError",
     "evalue": "len() of unsized object",
     "output_type": "error",
     "traceback": [
      "\u001b[0;31m---------------------------------------------------------------------------\u001b[0m",
      "\u001b[0;31mTypeError\u001b[0m                                 Traceback (most recent call last)",
      "\u001b[0;32m<ipython-input-160-3074b899acf2>\u001b[0m in \u001b[0;36m<module>\u001b[0;34m\u001b[0m\n\u001b[1;32m      4\u001b[0m     \u001b[0mpredict_me\u001b[0m \u001b[0;34m=\u001b[0m \u001b[0mnp\u001b[0m\u001b[0;34m.\u001b[0m\u001b[0marray\u001b[0m\u001b[0;34m(\u001b[0m\u001b[0mX_train\u001b[0m\u001b[0;34m.\u001b[0m\u001b[0mshape\u001b[0m\u001b[0;34m[\u001b[0m\u001b[0mi\u001b[0m\u001b[0;34m]\u001b[0m\u001b[0;34m)\u001b[0m\u001b[0;34m\u001b[0m\u001b[0;34m\u001b[0m\u001b[0m\n\u001b[1;32m      5\u001b[0m     \u001b[0mprint\u001b[0m\u001b[0;34m(\u001b[0m\u001b[0mpredict_me\u001b[0m\u001b[0;34m)\u001b[0m\u001b[0;34m\u001b[0m\u001b[0;34m\u001b[0m\u001b[0m\n\u001b[0;32m----> 6\u001b[0;31m     \u001b[0mpredict_me\u001b[0m \u001b[0;34m=\u001b[0m \u001b[0mpredict_me\u001b[0m\u001b[0;34m.\u001b[0m\u001b[0mreshape\u001b[0m\u001b[0;34m(\u001b[0m\u001b[0;34m-\u001b[0m\u001b[0;36m1\u001b[0m\u001b[0;34m,\u001b[0m \u001b[0mlen\u001b[0m\u001b[0;34m(\u001b[0m\u001b[0mpredict_me\u001b[0m\u001b[0;34m)\u001b[0m\u001b[0;34m)\u001b[0m\u001b[0;34m\u001b[0m\u001b[0;34m\u001b[0m\u001b[0m\n\u001b[0m\u001b[1;32m      7\u001b[0m     \u001b[0mprediction\u001b[0m \u001b[0;34m=\u001b[0m \u001b[0mkmeans\u001b[0m\u001b[0;34m.\u001b[0m\u001b[0mpredict\u001b[0m\u001b[0;34m(\u001b[0m\u001b[0mpredict_me\u001b[0m\u001b[0;34m)\u001b[0m\u001b[0;34m\u001b[0m\u001b[0;34m\u001b[0m\u001b[0m\n\u001b[1;32m      8\u001b[0m     \u001b[0;32mif\u001b[0m \u001b[0mprediction\u001b[0m\u001b[0;34m[\u001b[0m\u001b[0;36m0\u001b[0m\u001b[0;34m]\u001b[0m \u001b[0;34m==\u001b[0m\u001b[0my_train\u001b[0m\u001b[0;34m[\u001b[0m\u001b[0mi\u001b[0m\u001b[0;34m]\u001b[0m\u001b[0;34m:\u001b[0m\u001b[0;34m\u001b[0m\u001b[0;34m\u001b[0m\u001b[0m\n",
      "\u001b[0;31mTypeError\u001b[0m: len() of unsized object"
     ]
    }
   ],
   "source": [
    "import numpy as np\n",
    "correct = 0\n",
    "for i in range(X_train.shape[0]):\n",
    "    predict_me = np.array(X_train.shape[i])\n",
    "    print(predict_me)\n",
    "    predict_me = predict_me.reshape(-1, len(predict_me))\n",
    "    prediction = kmeans.predict(predict_me)\n",
    "    if prediction[0] ==y_train[i]:\n",
    "        correct+=1\n",
    "print(correct/len(X_train))"
   ]
  },
  {
   "cell_type": "code",
   "execution_count": null,
   "metadata": {},
   "outputs": [],
   "source": []
  }
 ],
 "metadata": {
  "kernelspec": {
   "display_name": "Python 3",
   "language": "python",
   "name": "python3"
  },
  "language_info": {
   "codemirror_mode": {
    "name": "ipython",
    "version": 3
   },
   "file_extension": ".py",
   "mimetype": "text/x-python",
   "name": "python",
   "nbconvert_exporter": "python",
   "pygments_lexer": "ipython3",
   "version": "3.7.1"
  }
 },
 "nbformat": 4,
 "nbformat_minor": 2
}
